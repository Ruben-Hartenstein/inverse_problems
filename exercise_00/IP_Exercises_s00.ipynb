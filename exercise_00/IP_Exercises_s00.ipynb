{
 "cells": [
  {
   "cell_type": "markdown",
   "id": "ecf3d23f",
   "metadata": {
    "deletable": false,
    "editable": false,
    "nbgrader": {
     "cell_type": "markdown",
     "checksum": "18fe4a6da1a98523039aa200dd7c3c8d",
     "grade": false,
     "grade_id": "cell-49b24469f46dfeca",
     "locked": true,
     "schema_version": 3,
     "solution": false,
     "task": false
    }
   },
   "source": [
    "# Inverse Problems Exercises: 2024s s00 (all)\n",
    "https://www.umm.uni-heidelberg.de/miism/"
   ]
  },
  {
   "cell_type": "markdown",
   "id": "12209b9a",
   "metadata": {
    "deletable": false,
    "editable": false,
    "nbgrader": {
     "cell_type": "markdown",
     "checksum": "e5d0144c579225e840ef057710d4298e",
     "grade": false,
     "grade_id": "cell-b87cf35163a625e4",
     "locked": true,
     "schema_version": 3,
     "solution": false,
     "task": false
    }
   },
   "source": [
    "## Notes\n",
    "* Please **DO NOT** change the name of the `.ipynb` file. \n",
    "* Please **DO NOT** import extra packages to solve the tasks. \n",
    "* Please put the `.ipynb` file directly into the `.zip` archive without any intermediate folder. "
   ]
  },
  {
   "attachments": {},
   "cell_type": "markdown",
   "id": "bc6444af",
   "metadata": {
    "deletable": false,
    "editable": false,
    "nbgrader": {
     "cell_type": "markdown",
     "checksum": "d14e269f4cf333c34cc8a0957ce37d6b",
     "grade": false,
     "grade_id": "cell-25297d00d0806932",
     "locked": true,
     "schema_version": 3,
     "solution": false,
     "task": false
    }
   },
   "source": [
    "## Please provide your personal information\n",
    "* full name (Name): Ruben Hartenstein\n",
    "* faculty (Fakultät): Mathematik und Informatik\n",
    "* discipline (Studiengang): Data and Computer Science\n",
    "* student number (Matrikelnummer): TBD"
   ]
  },
  {
   "cell_type": "markdown",
   "id": "4836944e",
   "metadata": {
    "deletable": false,
    "nbgrader": {
     "cell_type": "markdown",
     "checksum": "887555dfbf27ce84215dc6c65afe4a11",
     "grade": true,
     "grade_id": "cell-6ad7c047a83a276b",
     "locked": false,
     "points": 0,
     "schema_version": 3,
     "solution": true,
     "task": false
    }
   },
   "source": [
    "YOUR ANSWER HERE"
   ]
  },
  {
   "cell_type": "markdown",
   "id": "658ad44f",
   "metadata": {
    "deletable": false,
    "editable": false,
    "nbgrader": {
     "cell_type": "markdown",
     "checksum": "9eeb29fcbdd1a1031bae53bff025566b",
     "grade": false,
     "grade_id": "cell-3a94214da89ef99b",
     "locked": true,
     "schema_version": 3,
     "solution": false,
     "task": false
    }
   },
   "source": [
    "## J01: Quickstart"
   ]
  },
  {
   "cell_type": "code",
   "execution_count": 14,
   "id": "67e0f887",
   "metadata": {
    "deletable": false,
    "editable": false,
    "nbgrader": {
     "cell_type": "code",
     "checksum": "0bc440df1cd7f39b604bbdef5afa11eb",
     "grade": false,
     "grade_id": "cell-61d15f6490903e5c",
     "locked": true,
     "schema_version": 3,
     "solution": false,
     "task": false
    }
   },
   "outputs": [],
   "source": [
    "import numpy as np\n",
    "import matplotlib.pyplot as plt"
   ]
  },
  {
   "cell_type": "markdown",
   "id": "6d5ba9b3",
   "metadata": {
    "deletable": false,
    "editable": false,
    "nbgrader": {
     "cell_type": "markdown",
     "checksum": "ba6875180b92367d5727f15d47838b15",
     "grade": false,
     "grade_id": "cell-09201994caa3fe91",
     "locked": true,
     "schema_version": 3,
     "solution": false,
     "task": false
    }
   },
   "source": [
    "### NumPy\n",
    "* Create matrices $A = \\begin{bmatrix} 1 & 2 \\\\ 3 & 4 \\end{bmatrix}$, $B = \\begin{bmatrix} 5 & 6 \\\\ 7 & 8 \\end{bmatrix}$\n",
    "* Calculate the element-wise product $C = A \\circ B$\n",
    "* Calculate the dot product $D = A \\cdot B$\n",
    "* Save the output in the variables `A`, `B`, `C` and `D`, respectivly (as `numpy.array`)"
   ]
  },
  {
   "cell_type": "code",
   "execution_count": 15,
   "id": "100ede1a",
   "metadata": {
    "deletable": false,
    "nbgrader": {
     "cell_type": "code",
     "checksum": "8b2fffd1be88e6f114b5bf070ca5b50a",
     "grade": false,
     "grade_id": "cell-d81a692db9c8c237",
     "locked": false,
     "schema_version": 3,
     "solution": true,
     "task": false
    }
   },
   "outputs": [],
   "source": [
    "# YOUR CODE HERE\n",
    "A = np.array([[1, 2], [3, 4]])\n",
    "B = np.array([[5, 6], [7, 8]])\n",
    "C = np.multiply(A, B)\n",
    "D = np.dot(A, B)"
   ]
  },
  {
   "cell_type": "code",
   "execution_count": 16,
   "id": "74bd8915",
   "metadata": {
    "deletable": false,
    "editable": false,
    "nbgrader": {
     "cell_type": "code",
     "checksum": "2bb600323323050db9b33cf5a2179801",
     "grade": true,
     "grade_id": "a010",
     "locked": true,
     "points": 10,
     "schema_version": 3,
     "solution": false,
     "task": false
    }
   },
   "outputs": [],
   "source": [
    "# This cell contains hidden tests.\n"
   ]
  },
  {
   "cell_type": "code",
   "execution_count": 17,
   "id": "63ac3af0",
   "metadata": {
    "deletable": false,
    "editable": false,
    "nbgrader": {
     "cell_type": "code",
     "checksum": "1baebacf27f7ec8062e56282f5574280",
     "grade": true,
     "grade_id": "a020",
     "locked": true,
     "points": 10,
     "schema_version": 3,
     "solution": false,
     "task": false
    }
   },
   "outputs": [],
   "source": [
    "# This cell contains hidden tests.\n"
   ]
  },
  {
   "cell_type": "code",
   "execution_count": 18,
   "id": "9ff0b5ba",
   "metadata": {
    "deletable": false,
    "editable": false,
    "nbgrader": {
     "cell_type": "code",
     "checksum": "f70b08d43eaa1febab08e29498daa515",
     "grade": true,
     "grade_id": "a030",
     "locked": true,
     "points": 10,
     "schema_version": 3,
     "solution": false,
     "task": false
    }
   },
   "outputs": [],
   "source": [
    "# This cell contains hidden tests.\n"
   ]
  },
  {
   "cell_type": "code",
   "execution_count": 19,
   "id": "a627de17",
   "metadata": {
    "deletable": false,
    "editable": false,
    "nbgrader": {
     "cell_type": "code",
     "checksum": "5697e4566c734df2316c651141776ea3",
     "grade": true,
     "grade_id": "a040",
     "locked": true,
     "points": 10,
     "schema_version": 3,
     "solution": false,
     "task": false
    }
   },
   "outputs": [],
   "source": [
    "# This cell contains hidden tests.\n"
   ]
  },
  {
   "cell_type": "code",
   "execution_count": 20,
   "id": "cff1c3b0",
   "metadata": {
    "deletable": false,
    "editable": false,
    "nbgrader": {
     "cell_type": "code",
     "checksum": "d6035c1afe2c5c3690fba4fe06cda2f2",
     "grade": true,
     "grade_id": "a050",
     "locked": true,
     "points": 10,
     "schema_version": 3,
     "solution": false,
     "task": false
    }
   },
   "outputs": [
    {
     "name": "stdout",
     "output_type": "stream",
     "text": [
      "[[ 5 12]\n",
      " [21 32]]\n",
      "[[19 22]\n",
      " [43 50]]\n"
     ]
    }
   ],
   "source": [
    "# This cell contains tests.\n",
    "\n",
    "print(C)\n",
    "print(D)"
   ]
  },
  {
   "cell_type": "markdown",
   "id": "27d43857",
   "metadata": {
    "deletable": false,
    "editable": false,
    "nbgrader": {
     "cell_type": "markdown",
     "checksum": "4c707f7c8c27d4a62ca7a3405f900f8a",
     "grade": false,
     "grade_id": "cell-893663236d59c707",
     "locked": true,
     "schema_version": 3,
     "solution": false,
     "task": false
    }
   },
   "source": [
    "### Pyplot\n",
    "* Create array $x$ with 100 evenly spaced samples over the interval $[0, 2\\pi]$\n",
    "* Create array $f = \\sin(x)$ \n",
    "* Plot $f$ versus $x$ in the axes `ax`"
   ]
  },
  {
   "cell_type": "code",
   "execution_count": 21,
   "id": "dca90f8b",
   "metadata": {
    "deletable": false,
    "nbgrader": {
     "cell_type": "code",
     "checksum": "be72ce25aeb62b64e8d7fbfa96645a3f",
     "grade": false,
     "grade_id": "cell-1291280e9a1600b9",
     "locked": false,
     "schema_version": 3,
     "solution": true,
     "task": false
    }
   },
   "outputs": [
    {
     "data": {
      "image/png": "[encoded data removed]",
      "text/plain": [
       "<Figure size 640x480 with 1 Axes>"
      ]
     },
     "metadata": {},
     "output_type": "display_data"
    }
   ],
   "source": [
    "# YOUR CODE HERE\n",
    "x = np.linspace(0, 2*np.pi, 100)\n",
    "f = np.sin(x)\n",
    "\n",
    "fig, ax = plt.subplots()  # Create a figure and an axes.\n",
    "\n",
    "# YOUR CODE HERE\n",
    "ax.plot(x, f)             # Plot f versus x\n",
    "ax.set_xlabel('x')        # Set the x-axis label\n",
    "ax.set_ylabel('f')        # Set the y-axis label\n",
    "ax.set_title('Plot of sin(x)')  # Set the title\n",
    "plt.show()                # Display the plot"
   ]
  },
  {
   "cell_type": "code",
   "execution_count": 22,
   "id": "fef90115",
   "metadata": {
    "deletable": false,
    "editable": false,
    "nbgrader": {
     "cell_type": "code",
     "checksum": "93bbe8614224b521facda117c9865843",
     "grade": true,
     "grade_id": "a075",
     "locked": true,
     "points": 25,
     "schema_version": 3,
     "solution": false,
     "task": false
    }
   },
   "outputs": [],
   "source": [
    "# This cell contains hidden tests.\n"
   ]
  },
  {
   "cell_type": "code",
   "execution_count": 23,
   "id": "a2c86519",
   "metadata": {
    "deletable": false,
    "editable": false,
    "nbgrader": {
     "cell_type": "code",
     "checksum": "715f2f5603ec29119858ab1cadc07809",
     "grade": true,
     "grade_id": "a100",
     "locked": true,
     "points": 25,
     "schema_version": 3,
     "solution": false,
     "task": false
    }
   },
   "outputs": [],
   "source": [
    "# This cell contains hidden tests.\n"
   ]
  }
 ],
 "metadata": {
  "kernelspec": {
   "display_name": "Python 3 (ipykernel)",
   "language": "python",
   "name": "python3"
  },
  "language_info": {
   "codemirror_mode": {
    "name": "ipython",
    "version": 3
   },
   "file_extension": ".py",
   "mimetype": "text/x-python",
   "name": "python",
   "nbconvert_exporter": "python",
   "pygments_lexer": "ipython3",
   "version": "3.9.7"
  }
 },
 "nbformat": 4,
 "nbformat_minor": 5
}
