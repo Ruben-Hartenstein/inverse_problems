{
 "cells": [
  {
   "cell_type": "markdown",
   "id": "ecf3d23f",
   "metadata": {
    "deletable": false,
    "editable": false,
    "nbgrader": {
     "cell_type": "markdown",
     "checksum": "cb30e8fffcf64a942cd8a819457bc81b",
     "grade": false,
     "grade_id": "cell-49b24469f46dfeca",
     "locked": true,
     "schema_version": 3,
     "solution": false,
     "task": false
    }
   },
   "source": [
    "# Inverse Problems Exercises: 2024s s01 (all)\n",
    "https://www.umm.uni-heidelberg.de/miism/"
   ]
  },
  {
   "cell_type": "markdown",
   "id": "57446c02",
   "metadata": {
    "deletable": false,
    "editable": false,
    "nbgrader": {
     "cell_type": "markdown",
     "checksum": "ec30fdadd80fb09b2195443ee0c7eb06",
     "grade": false,
     "grade_id": "cell-603665f088b8484f",
     "locked": true,
     "schema_version": 3,
     "solution": false,
     "task": false
    }
   },
   "source": [
    "## Notes\n",
    "* Please **DO NOT** change the name of the `.ipynb` file. \n",
    "* Please **DO NOT** import extra packages to solve the tasks. \n",
    "* Please put the `.ipynb` file directly into the `.zip` archive without any intermediate folder. "
   ]
  },
  {
   "cell_type": "markdown",
   "id": "bc6444af",
   "metadata": {
    "deletable": false,
    "editable": false,
    "nbgrader": {
     "cell_type": "markdown",
     "checksum": "577de3d815a5433df6d24b2edf6f4512",
     "grade": false,
     "grade_id": "cell-25297d00d0806932",
     "locked": true,
     "schema_version": 3,
     "solution": false,
     "task": false
    }
   },
   "source": [
    "## Please provide your personal information\n",
    "* full name (Name): Ruben Hartenstein"
   ]
  },
  {
   "cell_type": "markdown",
   "id": "7d5a7d69",
   "metadata": {
    "deletable": false,
    "nbgrader": {
     "cell_type": "markdown",
     "checksum": "6ed66fd19bab168d80c4865c274aecd5",
     "grade": true,
     "grade_id": "cell-2d2bf14a246580e7",
     "locked": false,
     "points": 0,
     "schema_version": 3,
     "solution": true,
     "task": false
    }
   },
   "source": [
    "YOUR ANSWER HERE"
   ]
  },
  {
   "cell_type": "markdown",
   "id": "658ad44f",
   "metadata": {
    "deletable": false,
    "editable": false,
    "nbgrader": {
     "cell_type": "markdown",
     "checksum": "02651059b9a5cfd67ec1f8fac81500ab",
     "grade": false,
     "grade_id": "cell-3a94214da89ef99b",
     "locked": true,
     "schema_version": 3,
     "solution": false,
     "task": false
    }
   },
   "source": [
    "## I05: Parabolic trajectory problem"
   ]
  },
  {
   "cell_type": "code",
   "execution_count": null,
   "id": "67e0f887",
   "metadata": {
    "deletable": false,
    "editable": false,
    "nbgrader": {
     "cell_type": "code",
     "checksum": "0bc440df1cd7f39b604bbdef5afa11eb",
     "grade": false,
     "grade_id": "cell-61d15f6490903e5c",
     "locked": true,
     "schema_version": 3,
     "solution": false,
     "task": false
    }
   },
   "outputs": [],
   "source": [
    "import numpy as np\n",
    "import matplotlib.pyplot as plt"
   ]
  },
  {
   "cell_type": "markdown",
   "id": "6d5ba9b3",
   "metadata": {
    "deletable": false,
    "editable": false,
    "nbgrader": {
     "cell_type": "markdown",
     "checksum": "312dfcccf3248a48f96d06c36f94d8c6",
     "grade": false,
     "grade_id": "cell-09201994caa3fe91",
     "locked": true,
     "schema_version": 3,
     "solution": false,
     "task": false
    }
   },
   "source": [
    "### Forward problem\n",
    "Assume that we observe a ball thrown perpendicular to the earth's\n",
    "surface to the sky. By ignoring friction, we can write the equation of motion\n",
    "as the height $g$ as a function of time $t$ as \n",
    "$$g_i = g(t_i) = f_0 + f_1 t_i + \\frac{1}{2} f_2 t_i^2 = \\begin{bmatrix} 1 & t_i & \\frac{1}{2} t_i^2 \\end{bmatrix} \\begin{bmatrix} f_0 \\\\ f_1 \\\\ f_2 \\end{bmatrix} .$$\n",
    "\n",
    "* Given $f_\\text{true} = \\begin{bmatrix} f_0 \\\\ f_1 \\\\ f_2 \\end{bmatrix} = \\begin{bmatrix} 1 \\\\ 25 \\\\ -4 \\end{bmatrix}$\n",
    "* Given $t_i = (0.0, 0.5, 1.0, ..., 9.0, 9.5)$\n",
    "* Calculate $g_i = g(t_i)$\n",
    "* Save the output in the variables `f_true`, `t` and `g`, respectivly (as `numpy.array`)\n",
    "* Plot `g` versus `t` in the axes `ax`"
   ]
  },
  {
   "cell_type": "code",
   "execution_count": null,
   "id": "100ede1a",
   "metadata": {
    "deletable": false,
    "nbgrader": {
     "cell_type": "code",
     "checksum": "3ea60d15c9ae61422aad46679753db1b",
     "grade": false,
     "grade_id": "cell-d81a692db9c8c237",
     "locked": false,
     "schema_version": 3,
     "solution": true,
     "task": false
    }
   },
   "outputs": [],
   "source": [
    "f_true = np.array([1, 25, -4])\n",
    "t = np.arange(0, 10, 0.5)\n",
    "\n",
    "g= np.dot(np.column_stack((np.ones_like(t), t, 0.5 * t**2)), f_true)\n",
    "\n",
    "fig, ax = plt.subplots()  # Create a figure and an axes.\n",
    "ax.plot(t, g, marker='o', linestyle='-')\n",
    "ax.set_xlabel('Time (s)')\n",
    "ax.set_ylabel('Height (m)')\n",
    "ax.set_title('Height vs Time')\n",
    "plt.grid(True)\n",
    "plt.show()"
   ]
  },
  {
   "cell_type": "code",
   "execution_count": null,
   "id": "63f730b1",
   "metadata": {
    "deletable": false,
    "editable": false,
    "nbgrader": {
     "cell_type": "code",
     "checksum": "9229cdc4fff344a203ca6c26d5cf24a2",
     "grade": true,
     "grade_id": "a010",
     "locked": true,
     "points": 10,
     "schema_version": 3,
     "solution": false,
     "task": false
    }
   },
   "outputs": [],
   "source": [
    "# This cell contains hidden tests.\n",
    "\n"
   ]
  },
  {
   "cell_type": "code",
   "execution_count": null,
   "id": "a66e4b5d",
   "metadata": {
    "deletable": false,
    "editable": false,
    "nbgrader": {
     "cell_type": "code",
     "checksum": "e0c91313805b3177b675cb53983a3c61",
     "grade": true,
     "grade_id": "a015",
     "locked": true,
     "points": 5,
     "schema_version": 3,
     "solution": false,
     "task": false
    }
   },
   "outputs": [],
   "source": [
    "# This cell contains hidden tests.\n"
   ]
  },
  {
   "cell_type": "markdown",
   "id": "27d43857",
   "metadata": {
    "deletable": false,
    "editable": false,
    "nbgrader": {
     "cell_type": "markdown",
     "checksum": "f33217a4d474eff9a9d2dfadd8d35f50",
     "grade": false,
     "grade_id": "cell-893663236d59c707",
     "locked": true,
     "schema_version": 3,
     "solution": false,
     "task": false
    }
   },
   "source": [
    "### Inverse problem\n",
    "Collecting all measurements, we obtain the system of equations\n",
    "$$g = \\begin{bmatrix} g_1 \\\\ ... \\\\ g_n \\end{bmatrix}\n",
    "= \\begin{bmatrix} 1 & t_1 & \\frac{1}{2} t_1^2 \\\\ ... & ... & ... \\\\ 1 & t_n & \\frac{1}{2} t_n^2 \\end{bmatrix}\n",
    "\\begin{bmatrix} f_0 \\\\ f_1 \\\\ f_2 \\end{bmatrix}\n",
    "= A f .$$\n",
    "When the number of measurements is the same as the number of parameters, $A$ is square. The solution involves the inverse as \n",
    "$$\\hat{f} = A^{-1} g .$$\n",
    "\n",
    "* Take the last 3 elements from `t` and `g`\n",
    "* Calculate $A$ and $\\hat{f}$ \n",
    "* Save the output in the variables `A` and `f_est`, respectivly (as `numpy.array`)"
   ]
  },
  {
   "cell_type": "code",
   "execution_count": null,
   "id": "dca90f8b",
   "metadata": {
    "deletable": false,
    "nbgrader": {
     "cell_type": "code",
     "checksum": "aaf12634b9f191e62ad656320f018daf",
     "grade": false,
     "grade_id": "cell-1291280e9a1600b9",
     "locked": false,
     "schema_version": 3,
     "solution": true,
     "task": false
    }
   },
   "outputs": [],
   "source": [
    "# YOUR CODE HERE\n",
    "t_last = t[-3:]\n",
    "g_last = g[-3:]\n",
    "\n",
    "A = np.column_stack((np.ones_like(t_last), t_last, 0.5 * t_last**2))\n",
    "\n",
    "f_est = np.dot(np.linalg.inv(A), g_last)\n"
   ]
  },
  {
   "cell_type": "code",
   "execution_count": null,
   "id": "fef90115",
   "metadata": {
    "deletable": false,
    "editable": false,
    "nbgrader": {
     "cell_type": "code",
     "checksum": "98a3664c0c1c81def792e2e5b5c7802a",
     "grade": true,
     "grade_id": "a025",
     "locked": true,
     "points": 10,
     "schema_version": 3,
     "solution": false,
     "task": false
    }
   },
   "outputs": [],
   "source": [
    "# This cell contains tests.\n",
    "\n",
    "\n",
    "print(A)\n",
    "print(f_est)"
   ]
  },
  {
   "cell_type": "markdown",
   "id": "57f5cd90",
   "metadata": {
    "deletable": false,
    "editable": false,
    "nbgrader": {
     "cell_type": "markdown",
     "checksum": "175110b1a68f86c5027c29d9046f4e82",
     "grade": false,
     "grade_id": "cell-194e823502f08aa4",
     "locked": true,
     "schema_version": 3,
     "solution": false,
     "task": false
    }
   },
   "source": [
    "### Measurement errors\n",
    "The real measurements usually contain noise. In the case of additive Gaussian noise, the problem is formulated as\n",
    "$$g' = g + \\epsilon = Af + \\epsilon ,$$\n",
    "where $\\epsilon$ is a random variable with Gaussian distribution with mean $0$ and variance $\\sigma^2$, i.e. $\\epsilon \\sim \\mathcal{N}(0,\\sigma^2)$. The solution involves the inverse as \n",
    "$$\\hat{f} = A^{-1} g' .$$\n",
    "\n",
    "* Given $\\sigma = 2$\n",
    "* Calculate $g'$\n",
    "* Save the output in the variable `g_n` (as `numpy.array`)\n",
    "* Plot `g` versus `t` in the axes `ax`\n",
    "* Plot `g_n` versus `t` in the axes `ax` as well\n",
    "* Show the legend in the axes `ax`\n",
    "* Take the last 3 elements from `t` and `g_n`\n",
    "* Calculate $A$ and $\\hat{f}$ \n",
    "* Save the output in the variables `A` and `f_est`, respectivly (as `numpy.array`)"
   ]
  },
  {
   "cell_type": "code",
   "execution_count": null,
   "id": "a2c86519",
   "metadata": {
    "deletable": false,
    "nbgrader": {
     "cell_type": "code",
     "checksum": "95ccc33bbbe911eee16b626fc7cf583e",
     "grade": true,
     "grade_id": "a035",
     "locked": false,
     "points": 10,
     "schema_version": 3,
     "solution": true,
     "task": false
    }
   },
   "outputs": [],
   "source": [
    "sigma = 2\n",
    "\n",
    "epsilon = np.random.normal(loc=0, scale=sigma, size=len(g))\n",
    "g_n = g + epsilon\n",
    "\n",
    "fig, ax = plt.subplots()  # Create a figure and an axes.\n",
    "ax.plot(t, g, marker='o', linestyle='-', label='Original')\n",
    "ax.plot(t, g_n, marker='x', linestyle='--', label='With Noise')\n",
    "ax.set_xlabel('Time (s)')\n",
    "ax.set_ylabel('Height (m)')\n",
    "ax.set_title('Height vs Time')\n",
    "ax.legend()\n",
    "plt.grid(True)\n",
    "plt.show()\n",
    "\n",
    "t_last = t[-3:]\n",
    "g_n_last = g_n[-3:]\n",
    "\n",
    "A = np.column_stack((np.ones_like(t_last), t_last, 0.5 * t_last**2))\n",
    "\n",
    "f_est = np.dot(np.linalg.inv(A), g_n_last)\n",
    "\n"
   ]
  },
  {
   "cell_type": "code",
   "execution_count": null,
   "id": "b55186fa",
   "metadata": {
    "deletable": false,
    "editable": false,
    "nbgrader": {
     "cell_type": "code",
     "checksum": "0268730dab168f3e23efbddd387e8ec7",
     "grade": true,
     "grade_id": "a045",
     "locked": true,
     "points": 10,
     "schema_version": 3,
     "solution": false,
     "task": false
    }
   },
   "outputs": [],
   "source": [
    "# This cell contains hidden tests.\n"
   ]
  },
  {
   "cell_type": "code",
   "execution_count": null,
   "id": "56d27eab",
   "metadata": {
    "deletable": false,
    "editable": false,
    "nbgrader": {
     "cell_type": "code",
     "checksum": "37d07ed3f48be8817696365c04ed748d",
     "grade": true,
     "grade_id": "a050",
     "locked": true,
     "points": 5,
     "schema_version": 3,
     "solution": false,
     "task": false
    }
   },
   "outputs": [],
   "source": [
    "# This cell contains hidden tests.\n"
   ]
  },
  {
   "cell_type": "code",
   "execution_count": null,
   "id": "90fcb71c",
   "metadata": {
    "deletable": false,
    "editable": false,
    "nbgrader": {
     "cell_type": "code",
     "checksum": "6b1f17509f9bd8a9e501b6edff9d6dfd",
     "grade": true,
     "grade_id": "a060",
     "locked": true,
     "points": 10,
     "schema_version": 3,
     "solution": false,
     "task": false
    }
   },
   "outputs": [],
   "source": [
    "# This cell contains tests.\n",
    "\n",
    "\n",
    "print(f_est)"
   ]
  },
  {
   "cell_type": "markdown",
   "id": "4cb18eed",
   "metadata": {
    "deletable": false,
    "editable": false,
    "nbgrader": {
     "cell_type": "markdown",
     "checksum": "4d8976e33ae6fdf79607616c0bf2d83d",
     "grade": false,
     "grade_id": "cell-87e02b76b4723446",
     "locked": true,
     "schema_version": 3,
     "solution": false,
     "task": false
    }
   },
   "source": [
    "### Question: Noise\n",
    "* How does the result depend on the noise?"
   ]
  },
  {
   "cell_type": "markdown",
   "id": "17c3a599",
   "metadata": {
    "deletable": false,
    "nbgrader": {
     "cell_type": "markdown",
     "checksum": "14c5ff664c8c1ca171de5cc7158aab40",
     "grade": true,
     "grade_id": "a070",
     "locked": false,
     "points": 10,
     "schema_version": 3,
     "solution": true,
     "task": false
    }
   },
   "source": [
    "YOUR ANSWER HERE\n",
    "1. The larger the standard deviation $\\sigma$ of the noise, the more spread out the noisy measurement will be. This makes it hard to estimate parameters, as the noise can conceal the underlying signal.\n",
    "2. If the noise is consistent, it can be accounted for during parameter estimation. If the characteristics of the noise change over time it makes estimation more challenging\n",
    "3. Law of big numbers. With more measurements, the effect of noise can be mitigated since it should be averaging out."
   ]
  },
  {
   "cell_type": "markdown",
   "id": "6f0ce3f6",
   "metadata": {
    "deletable": false,
    "editable": false,
    "nbgrader": {
     "cell_type": "markdown",
     "checksum": "a019b30523e39dc4f43bd011a6f4da79",
     "grade": false,
     "grade_id": "cell-cbe4db93698a1f95",
     "locked": true,
     "schema_version": 3,
     "solution": false,
     "task": false
    }
   },
   "source": [
    "### Pseudo-inverse\n",
    "When the number of measurements is larger than the number of parameters, $A$ is generally not invertible. The solution involves the pseudo-inverse as \n",
    "$$\\hat{f} = (A^T A)^{-1} A^T g = A^{PI} g' .$$\n",
    "\n",
    "* Take all elements from `t` and `g_n`\n",
    "* Calculate $A$ and $\\hat{f}$ \n",
    "* Save the output in the variables `A` and `f_est`, respectivly (as `numpy.array`)"
   ]
  },
  {
   "cell_type": "code",
   "execution_count": null,
   "id": "2bd93fdb",
   "metadata": {
    "deletable": false,
    "nbgrader": {
     "cell_type": "code",
     "checksum": "8f1b67b4ba4e5cd9b85feb95d1e29ef8",
     "grade": false,
     "grade_id": "cell-86bafeafe76ec8d3",
     "locked": false,
     "schema_version": 3,
     "solution": true,
     "task": false
    }
   },
   "outputs": [],
   "source": [
    "A = np.column_stack((np.ones_like(t), t, 0.5 * t**2))\n",
    "A_t = np.transpose(A)\n",
    "A_PI = np.dot(np.linalg.inv(np.dot(A_t, A)), A_t)\n",
    "f_est = np.dot(A_PI, g_n)"
   ]
  },
  {
   "cell_type": "code",
   "execution_count": null,
   "id": "e33aed25",
   "metadata": {
    "deletable": false,
    "editable": false,
    "nbgrader": {
     "cell_type": "code",
     "checksum": "b503bd5686d1d11566c1e0444811e8b9",
     "grade": true,
     "grade_id": "a080",
     "locked": true,
     "points": 10,
     "schema_version": 3,
     "solution": false,
     "task": false
    }
   },
   "outputs": [],
   "source": [
    "# This cell contains tests.\n",
    "\n",
    "\n",
    "print(A)\n",
    "print(f_est)"
   ]
  },
  {
   "cell_type": "code",
   "execution_count": null,
   "id": "2c31256d",
   "metadata": {
    "deletable": false,
    "editable": false,
    "nbgrader": {
     "cell_type": "code",
     "checksum": "b8774e75ea2d4b29915c36240ad92936",
     "grade": true,
     "grade_id": "a090",
     "locked": true,
     "points": 10,
     "schema_version": 3,
     "solution": false,
     "task": false
    }
   },
   "outputs": [],
   "source": [
    "# This cell contains hidden tests.\n"
   ]
  },
  {
   "cell_type": "markdown",
   "id": "a5577cec",
   "metadata": {
    "deletable": false,
    "editable": false,
    "nbgrader": {
     "cell_type": "markdown",
     "checksum": "dc9fca4207ba4e995598668626f1b891",
     "grade": false,
     "grade_id": "cell-c67de097d52e2d79",
     "locked": true,
     "schema_version": 3,
     "solution": false,
     "task": false
    }
   },
   "source": [
    "### Question: Data\n",
    "* How does the result depend on the number of considered data?"
   ]
  },
  {
   "cell_type": "markdown",
   "id": "588b7323",
   "metadata": {
    "deletable": false,
    "nbgrader": {
     "cell_type": "markdown",
     "checksum": "195b7079323a714b674fda7b242fa684",
     "grade": true,
     "grade_id": "a100",
     "locked": false,
     "points": 10,
     "schema_version": 3,
     "solution": true,
     "task": false
    }
   },
   "source": [
    "YOUR ANSWER HERE\n",
    "1. Overdetermined System: When the number of data points is greater then the number of parameters. This allows for a more robust estimation of the parameters because the additional data points provide more information and help reduce the impact of noise.\n",
    "2. Underdetermined System: When the number of data points is less than the number of parameters. In this case there could be multiple possible parameter sets that satisfy the data. More data points are needed to constrain the solution and resolve ambiguity."
   ]
  }
 ],
 "metadata": {
  "kernelspec": {
   "display_name": "Python 3 (ipykernel)",
   "language": "python",
   "name": "python3"
  },
  "language_info": {
   "codemirror_mode": {
    "name": "ipython",
    "version": 3
   },
   "file_extension": ".py",
   "mimetype": "text/x-python",
   "name": "python",
   "nbconvert_exporter": "python",
   "pygments_lexer": "ipython3",
   "version": "3.11.9"
  }
 },
 "nbformat": 4,
 "nbformat_minor": 5
}
